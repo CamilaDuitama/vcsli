{
 "cells": [
  {
   "cell_type": "code",
   "execution_count": 60,
   "metadata": {},
   "outputs": [
    {
     "name": "stdout",
     "output_type": "stream",
     "text": [
      "[  8.91277678e-01   4.16537304e-02   1.28320040e-01   1.94105257e-10\n",
      "   1.43644612e-01   8.49605656e-03   2.62840413e-14   1.02291820e-13\n",
      "   3.92014168e-13   2.70676935e-07   3.13473045e-09   1.39638888e-07\n",
      "   5.40484052e-08   9.79363543e-07   5.67845587e-07   1.03832351e-05\n",
      "   6.69334942e-07   4.72530486e-04   9.44491497e-06   1.62529809e-03\n",
      "   4.44091508e-03   2.68693515e-03   4.79207855e-04]\n"
     ]
    }
   ],
   "source": [
    "import numpy as np\n",
    "import scipy\n",
    "from scipy import misc\n",
    "from matplotlib import pyplot, cm\n",
    "from numpy.linalg import eig\n",
    "\n",
    "def GetPointEdges(Points,SigmaDistance,EdgeRadius):\n",
    "    \"\"\"This function constructs a graph describing similarity of points in the given \n",
    "       array.\n",
    "      \\param Points An array of shape (nPoint,2) where each row provides the \n",
    "             coordinates of one of nPoint points in the plane.\n",
    "      \\param SigmaDistance The standard deviation of the Gaussian distribution used \n",
    "             to weigh down longer edges.\n",
    "      \\param EdgeRadius A positive float providing the maximal length of edges.\n",
    "      \\return A tuple (EdgeWeight,EdgeIndices) where EdgeWeight is an array of \n",
    "              length nEdge providing the weight of all produced edges and \n",
    "              EdgeIndices is an integer array of shape (nEdge,2) where each row \n",
    "              provides the indices of two pixels which are connected by an edge.\"\"\"\n",
    "    edgeWeight = []\n",
    "    edgeIndices = []\n",
    "    for i, pointi in enumerate(Points):\n",
    "        for j, pointj in enumerate(Points):\n",
    "            \"\"\"if i==j:\n",
    "                continue\"\"\"\n",
    "            dist = (pointi[0]-pointj[0])**2\n",
    "            dist += (pointi[1]-pointj[1])**2\n",
    "            if (dist**.5)<=EdgeRadius:\n",
    "                wij = (pointi[0]-pointj[0])**2\n",
    "                wij += (pointi[1]-pointj[1])**2\n",
    "                wij /= 2*(SigmaDistance**2)\n",
    "                wij = np.exp(-wij)\n",
    "                \"\"\"wij is higher the closer the edges are. \n",
    "                It is 1 if they are at the same place and close \n",
    "                to 0 as they distance from each other. \"\"\"\n",
    "                edgeWeight+= [wij]\n",
    "                edgeIndices+= [(i,j)]\n",
    "    return (edgeWeight, edgeIndices)\n",
    "    \n",
    "\n",
    "\n",
    "def GetLaplacian(nVertex,EdgeWeight,EdgeIndices):\n",
    "    \"\"\"Constructs a matrix providing the Laplacian for the given graph. \n",
    "      \\param nVertex The number of vertices in the graph (resp. pixels in the \n",
    "             image).\n",
    "      \\param EdgeWeight A one-dimensional array of nEdge floats providing the weight \n",
    "             for each edge.\n",
    "      \\param EdgeIndices An integer array of shape (nEdge,2) where each row provides \n",
    "             the vertex indices for one edge.\n",
    "      \\return A matrix providing the Laplacian for the given graph.\"\"\"\n",
    "    aff = np.zeros((nVertex, nVertex), dtype=float) # affinity\n",
    "    deg = np.zeros((nVertex, nVertex), dtype=float) # degree\n",
    "    for w, i in zip(EdgeWeight, EdgeIndices):\n",
    "        if i[0]!=i[1]:\n",
    "            aff[i] += w\n",
    "        deg[i[0], i[0]] += w\n",
    "    return deg-aff\n",
    "    \n",
    "\n",
    "\n",
    "def GetFiedlerVector(Laplacian):\n",
    "    \"\"\"Given the Laplacian matrix of a graph this function computes the normalized \n",
    "       Eigenvector for its second-smallest Eigenvalue (the so-called Fiedler vector) \n",
    "       and returns it.\"\"\"\n",
    "    val, vec = eig(Laplacian)\n",
    "    eigen = [(x[0],x[1]) for x in zip(val, vec)]\n",
    "    eigen = sorted(eigen, key=lambda x: x[0])\n",
    "    return eigen[1][1]\n",
    "\n",
    "\n",
    "\n",
    "if(__name__==\"__main__\"):\n",
    "    # This list of points is to be clustered\n",
    "    Points=np.asarray([(-8.097,10.680),(-3.902,8.421),(-9.711,7.372),(0.859,12.859),(4.732,11.084),(-0.594,9.147)\\\n",
    "                       ,(-4.224,13.585),(-9.066,11.891),(-13.181,8.663),(-12.374,3.983),(-11.406,-2.068),(-9.630,2.854),\\\n",
    "                       (-13.665,-6.667),(-15.521,-0.454),(-15.117,-6.587),(-11.970,-10.621),(-6.000,-12.799),(-2.853,-14.978)\\\n",
    "                       ,(-8.501,-10.217),(2.311,-11.670),(3.441,-14.171),(5.861,-10.137),(10.138,-6.909),(15.382,-5.215),\\\n",
    "                       (14.091,0.675),(11.187,3.903),(8.685,8.502),(7.879,11.649),(5.216,10.680),(11.025,6.888),(13.446,2.612),\\\n",
    "                       (12.962,-7.393),(8.363,-9.330),(-0.594,-0.212),(1.666,1.401),(1.424,-1.019),(-0.351,-2.552),\\\n",
    "                       (-2.127,0.675),(-0.271,2.128),(-4.743,-4.016)]);\n",
    "    nVertex=Points.shape[0];\n",
    "    \n",
    "    # Construct the graph for the points\n",
    "    EdgeWeight,EdgeIndices=GetPointEdges(Points,1.8,7.0);\n",
    "    # Construct the Laplacian matrix for the graph\n",
    "    Laplacian=GetLaplacian(nVertex,EdgeWeight,EdgeIndices);\n",
    "    # Compute the Fiedler vector\n",
    "    FiedlerVector=GetFiedlerVector(Laplacian);\n",
    "    sortedFiedler = sorted(FiedlerVector)\n",
    "    threshold = sortedFiedler[0] + sortedFiedler[39] / 2\n",
    "    print(FiedlerVector[FiedlerVector>0])\n",
    "    # Show the results"
   ]
  },
  {
   "cell_type": "code",
   "execution_count": 15,
   "metadata": {},
   "outputs": [
    {
     "ename": "AttributeError",
     "evalue": "'zip' object has no attribute 'sort'",
     "output_type": "error",
     "traceback": [
      "\u001b[1;31m---------------------------------------------------------------------------\u001b[0m",
      "\u001b[1;31mAttributeError\u001b[0m                            Traceback (most recent call last)",
      "\u001b[1;32m<ipython-input-15-fbbc841e0526>\u001b[0m in \u001b[0;36m<module>\u001b[1;34m()\u001b[0m\n\u001b[0;32m      1\u001b[0m \u001b[1;33m[\u001b[0m\u001b[1;33m(\u001b[0m\u001b[0mx\u001b[0m\u001b[1;33m[\u001b[0m\u001b[1;36m0\u001b[0m\u001b[1;33m]\u001b[0m\u001b[1;33m,\u001b[0m \u001b[0mx\u001b[0m\u001b[1;33m[\u001b[0m\u001b[1;36m1\u001b[0m\u001b[1;33m]\u001b[0m\u001b[1;33m)\u001b[0m \u001b[1;32mfor\u001b[0m \u001b[0mx\u001b[0m \u001b[1;32min\u001b[0m \u001b[0mzip\u001b[0m\u001b[1;33m(\u001b[0m\u001b[1;33m[\u001b[0m\u001b[1;34m'a'\u001b[0m\u001b[1;33m,\u001b[0m \u001b[1;34m'b'\u001b[0m\u001b[1;33m,\u001b[0m \u001b[1;34m'c'\u001b[0m\u001b[1;33m]\u001b[0m\u001b[1;33m,\u001b[0m \u001b[1;33m[\u001b[0m\u001b[1;36m1\u001b[0m\u001b[1;33m,\u001b[0m \u001b[1;36m2\u001b[0m\u001b[1;33m,\u001b[0m \u001b[1;36m3\u001b[0m\u001b[1;33m]\u001b[0m\u001b[1;33m)\u001b[0m\u001b[1;33m]\u001b[0m\u001b[1;33m\u001b[0m\u001b[0m\n\u001b[0;32m      2\u001b[0m \u001b[0ma\u001b[0m\u001b[1;33m=\u001b[0m \u001b[0mzip\u001b[0m\u001b[1;33m(\u001b[0m\u001b[1;33m[\u001b[0m\u001b[1;34m'a'\u001b[0m\u001b[1;33m,\u001b[0m \u001b[1;34m'b'\u001b[0m\u001b[1;33m,\u001b[0m \u001b[1;34m'c'\u001b[0m\u001b[1;33m]\u001b[0m\u001b[1;33m,\u001b[0m \u001b[1;33m[\u001b[0m\u001b[1;36m1\u001b[0m\u001b[1;33m,\u001b[0m \u001b[1;36m2\u001b[0m\u001b[1;33m,\u001b[0m \u001b[1;36m3\u001b[0m\u001b[1;33m]\u001b[0m\u001b[1;33m)\u001b[0m\u001b[1;33m\u001b[0m\u001b[0m\n\u001b[1;32m----> 3\u001b[1;33m \u001b[0ma\u001b[0m\u001b[1;33m.\u001b[0m\u001b[0msort\u001b[0m\u001b[1;33m(\u001b[0m\u001b[1;33m)\u001b[0m\u001b[1;33m\u001b[0m\u001b[0m\n\u001b[0m",
      "\u001b[1;31mAttributeError\u001b[0m: 'zip' object has no attribute 'sort'"
     ]
    }
   ],
   "source": [
    "[(x[0], x[1]) for x in zip(['a', 'b', 'c'], [1, 2, 3])]\n"
   ]
  },
  {
   "cell_type": "code",
   "execution_count": null,
   "metadata": {
    "collapsed": true
   },
   "outputs": [],
   "source": []
  }
 ],
 "metadata": {
  "kernelspec": {
   "display_name": "Python 3",
   "language": "python",
   "name": "python3"
  },
  "language_info": {
   "codemirror_mode": {
    "name": "ipython",
    "version": 3
   },
   "file_extension": ".py",
   "mimetype": "text/x-python",
   "name": "python",
   "nbconvert_exporter": "python",
   "pygments_lexer": "ipython3",
   "version": "3.5.0"
  }
 },
 "nbformat": 4,
 "nbformat_minor": 2
}

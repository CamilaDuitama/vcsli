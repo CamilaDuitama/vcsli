{
 "cells": [
  {
   "cell_type": "code",
   "execution_count": 1,
   "metadata": {},
   "outputs": [
    {
     "data": {
      "text/plain": [
       "True"
      ]
     },
     "execution_count": 1,
     "metadata": {},
     "output_type": "execute_result"
    }
   ],
   "source": [
    "0==0.0"
   ]
  },
  {
   "cell_type": "markdown",
   "metadata": {
    "collapsed": true
   },
   "source": [
    "eigenvalues can be calculated using lin alg package or panda?\n",
    "\n",
    "2a can be done using modules\n",
    "\n",
    "2c use histograms to find the wavelike graph, look at the peaks of values, use them to something\n",
    "\n",
    "2e should look like the image example in the handout\n",
    "\n"
   ]
  },
  {
   "cell_type": "code",
   "execution_count": 63,
   "metadata": {},
   "outputs": [
    {
     "name": "stdout",
     "output_type": "stream",
     "text": [
      "9.91806165223e-05\n"
     ]
    }
   ],
   "source": [
    "import numpy as np\n",
    "import scipy\n",
    "from scipy import misc\n",
    "from matplotlib import pyplot, cm\n",
    "from numpy.linalg import eig\n",
    "\n",
    "def GetPointEdges(Points,SigmaDistance,EdgeRadius):\n",
    "    \"\"\"This function constructs a graph describing similarity of points in the given \n",
    "       array.\n",
    "      \\param Points An array of shape (nPoint,2) where each row provides the \n",
    "             coordinates of one of nPoint points in the plane.\n",
    "      \\param SigmaDistance The standard deviation of the Gaussian distribution used \n",
    "             to weigh down longer edges.\n",
    "      \\param EdgeRadius A positive float providing the maximal length of edges.\n",
    "      \\return A tuple (EdgeWeight,EdgeIndices) where EdgeWeight is an array of \n",
    "              length nEdge providing the weight of all produced edges and \n",
    "              EdgeIndices is an integer array of shape (nEdge,2) where each row \n",
    "              provides the indices of two pixels which are connected by an edge.\"\"\"\n",
    "    edgeWeight = []\n",
    "    edgeIndices = []\n",
    "    for i, pointi in enumerate(Points):\n",
    "        for j, pointj in enumerate(Points):\n",
    "            \"\"\"if i==j:\n",
    "                continue\"\"\"\n",
    "            dist = (pointi[0]-pointj[0])**2\n",
    "            dist += (pointi[1]-pointj[1])**2\n",
    "            if (dist**.5)<=EdgeRadius:\n",
    "                wij= (pointi[0]-pointj[0])**2\n",
    "                wij += (pointi[1]-pointj[1])**2\n",
    "                wij /= 2*(SigmaDistance**2)\n",
    "                wij = np.exp(-wij)\n",
    "                edgeWeight+= [wij]\n",
    "                edgeIndices+= [(i,j)]\n",
    "    return (edgeWeight, edgeIndices)\n",
    "    \n",
    "\n",
    "\n",
    "def GetLaplacian(nVertex,EdgeWeight,EdgeIndices):\n",
    "    \"\"\"Constructs a matrix providing the Laplacian for the given graph. \n",
    "      \\param nVertex The number of vertices in the graph (resp. pixels in the \n",
    "             image).\n",
    "      \\param EdgeWeight A one-dimensional array of nEdge floats providing the weight \n",
    "             for each edge.\n",
    "      \\param EdgeIndices An integer array of shape (nEdge,2) where each row provides \n",
    "             the vertex indices for one edge.\n",
    "      \\return A matrix providing the Laplacian for the given graph.\"\"\"\n",
    "    aff = np.zeros((nVertex, nVertex), dtype=float)\n",
    "    deg = np.zeros((nVertex, nVertex), dtype=float)\n",
    "    lap = np.zeros((nVertex, nVertex), dtype=float)\n",
    "    for w, i in zip(EdgeWeight, EdgeIndices):\n",
    "        aff[i] += w\n",
    "        deg[i[0], i[0]] += w\n",
    "    return deg-aff\n",
    "    \n",
    "\n",
    "\n",
    "def GetFiedlerVector(Laplacian):\n",
    "    \"\"\"Given the Laplacian matrix of a graph this function computes the normalized \n",
    "       Eigenvector for its second-smallest Eigenvalue (the so-called Fiedler vector) \n",
    "       and returns it.\"\"\"\n",
    "    val, vect = eig(Laplacian)\n",
    "    val.sort()\n",
    "    print (val[1])\n",
    "\n",
    "\n",
    "\n",
    "if(__name__==\"__main__\"):\n",
    "    # This list of points is to be clustered\n",
    "    Points=np.asarray([(-8.097,10.680),(-3.902,8.421),(-9.711,7.372),(0.859,12.859),(4.732,11.084),(-0.594,9.147),(-4.224,13.585),(-9.066,11.891),(-13.181,8.663),(-12.374,3.983),(-11.406,-2.068),(-9.630,2.854),(-13.665,-6.667),(-15.521,-0.454),(-15.117,-6.587),(-11.970,-10.621),(-6.000,-12.799),(-2.853,-14.978),(-8.501,-10.217),(2.311,-11.670),(3.441,-14.171),(5.861,-10.137),(10.138,-6.909),(15.382,-5.215),(14.091,0.675),(11.187,3.903),(8.685,8.502),(7.879,11.649),(5.216,10.680),(11.025,6.888),(13.446,2.612),(12.962,-7.393),(8.363,-9.330),(-0.594,-0.212),(1.666,1.401),(1.424,-1.019),(-0.351,-2.552),(-2.127,0.675),(-0.271,2.128),(-4.743,-4.016)]);\n",
    "    nVertex=Points.shape[0];\n",
    "    \n",
    "    # Construct the graph for the points\n",
    "    EdgeWeight,EdgeIndices=GetPointEdges(Points,1.8,7.0);\n",
    "    # Construct the Laplacian matrix for the graph\n",
    "    Laplacian=GetLaplacian(nVertex,EdgeWeight,EdgeIndices);\n",
    "    # Compute the Fiedler vector\n",
    "    FiedlerVector=GetFiedlerVector(Laplacian);\n",
    "    \n",
    "    # Show the results"
   ]
  },
  {
   "cell_type": "code",
   "execution_count": null,
   "metadata": {},
   "outputs": [],
   "source": []
  },
  {
   "cell_type": "code",
   "execution_count": null,
   "metadata": {
    "collapsed": true
   },
   "outputs": [],
   "source": []
  }
 ],
 "metadata": {
  "kernelspec": {
   "display_name": "Python 3",
   "language": "python",
   "name": "python3"
  },
  "language_info": {
   "codemirror_mode": {
    "name": "ipython",
    "version": 3
   },
   "file_extension": ".py",
   "mimetype": "text/x-python",
   "name": "python",
   "nbconvert_exporter": "python",
   "pygments_lexer": "ipython3",
   "version": "3.6.1"
  }
 },
 "nbformat": 4,
 "nbformat_minor": 2
}

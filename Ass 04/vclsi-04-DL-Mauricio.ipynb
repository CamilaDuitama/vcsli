{
 "cells": [
  {
   "cell_type": "code",
   "execution_count": null,
   "metadata": {
    "collapsed": true
   },
   "outputs": [],
   "source": [
    "import numpy as np\n",
    "import scipy\n",
    "from scipy import misc\n",
    "from matplotlib import pyplot, cm\n",
    "from numpy.linalg import eig, inv\n",
    "import matplotlib.pyplot as plt\n",
    "\n",
    "def GetPointEdges(Points,SigmaDistance,EdgeRadius):\n",
    "    \"\"\"This function constructs a graph describing similarity of points in the given \n",
    "       array.\n",
    "      \\param Points An array of shape (nPoint,2) where each row provides the \n",
    "             coordinates of one of nPoint points in the plane.\n",
    "      \\param SigmaDistance The standard deviation of the Gaussian distribution used \n",
    "             to weigh down longer edges.\n",
    "      \\param EdgeRadius A positive float providing the maximal length of edges.\n",
    "      \\return A tuple (EdgeWeight,EdgeIndices) where EdgeWeight is an array of \n",
    "              length nEdge providing the weight of all produced edges and \n",
    "              EdgeIndices is an integer array of shape (nEdge,2) where each row \n",
    "              provides the indices of two pixels which are connected by an edge.\"\"\"\n",
    "    eW = []\n",
    "    eI = []\n",
    "    for i, pointi in enumerate(Points):\n",
    "        for j, pointj in enumerate(Points):\n",
    "            \"\"\"if i==j:\n",
    "                continue\"\"\"\n",
    "            dist = (pointi[0]-pointj[0])**2\n",
    "            dist += (pointi[1]-pointj[1])**2\n",
    "            if (dist**.5)<=EdgeRadius:\n",
    "                wij = (pointi[0]-pointj[0])**2\n",
    "                wij += (pointi[1]-pointj[1])**2\n",
    "                wij /= 2*(SigmaDistance**2)\n",
    "                wij = np.exp(-wij)\n",
    "                \"\"\"wij is higher the closer the edges are. \n",
    "                It is 1 if they are at the same place and close \n",
    "                to 0 as they distance from each other. \"\"\"\n",
    "                eW+= [wij]\n",
    "                eI+= [(i,j)]\n",
    "    return (eW, eI)\n",
    "    \n",
    "\n",
    "def GetLaplacian(nVertex,EdgeWeight,EdgeIndices):\n",
    "    \"\"\"Constructs a matrix providing the Laplacian for the given graph. \n",
    "      \\param nVertex The number of vertices in the graph (resp. pixels in the \n",
    "             image).\n",
    "      \\param EdgeWeight A one-dimensional array of nEdge floats providing the weight \n",
    "             for each edge.\n",
    "      \\param EdgeIndices An integer array of shape (nEdge,2) where each row provides \n",
    "             the vertex indices for one edge.\n",
    "      \\return A matrix providing the Laplacian for the given graph.\"\"\"\n",
    "    deg = np.zeros((nVertex, nVertex), dtype=float) # degree\n",
    "    aff = np.zeros((nVertex, nVertex), dtype=float) # affinity\n",
    "    for w, (i,j) in zip(EdgeWeight, EdgeIndices):\n",
    "        aff[i][j] += w\n",
    "        deg[i][i] += w\n",
    "    return np.identity(nVertex)-np.matmul(inv(deg),aff)\n",
    "\n",
    "def GetFiedlerVector(Laplacian):\n",
    "    \"\"\"Given the Laplacian matrix of a graph this function computes the normalized \n",
    "       Eigenvector for its second-smallest Eigenvalue (the so-called Fiedler vector) \n",
    "       and returns it.\"\"\"\n",
    "    val, vec = eig(Laplacian)\n",
    "    eigen = [(x[0],x[1]) for x in zip(val, vec)]\n",
    "    eigen = sorted(eigen, key=lambda x: x[0])\n",
    "    # return the vector corresponding to the second smallest value\n",
    "    # TODO: do we need to normalize it??????\n",
    "    return eigen[1][1]\n",
    "\n",
    "if(__name__==\"__main__\"):\n",
    "    # This list of points is to be clustered\n",
    "    Points=np.asarray([(-8.097,10.680),(-3.902,8.421),(-9.711,7.372),(0.859,12.859),(4.732,11.084),(-0.594,9.147)\\\n",
    "                       ,(-4.224,13.585),(-9.066,11.891),(-13.181,8.663),(-12.374,3.983),(-11.406,-2.068),(-9.630,2.854),\\\n",
    "                       (-13.665,-6.667),(-15.521,-0.454),(-15.117,-6.587),(-11.970,-10.621),(-6.000,-12.799),(-2.853,-14.978)\\\n",
    "                       ,(-8.501,-10.217),(2.311,-11.670),(3.441,-14.171),(5.861,-10.137),(10.138,-6.909),(15.382,-5.215),\\\n",
    "                       (14.091,0.675),(11.187,3.903),(8.685,8.502),(7.879,11.649),(5.216,10.680),(11.025,6.888),(13.446,2.612),\\\n",
    "                       (12.962,-7.393),(8.363,-9.330),(-0.594,-0.212),(1.666,1.401),(1.424,-1.019),(-0.351,-2.552),\\\n",
    "                       (-2.127,0.675),(-0.271,2.128),(-4.743,-4.016)]);\n",
    "    nVertex=Points.shape[0];\n",
    "    \n",
    "    \"\"\" The clustered points should be the last 6 on the array. \"\"\"\n",
    "    \n",
    "    # Construct the graph for the points\n",
    "    EdgeWeight,EdgeIndices=GetPointEdges(Points,1.8,7.0);\n",
    "    # Construct the Laplacian matrix for the graph\n",
    "    Laplacian=GetLaplacian(nVertex,EdgeWeight,EdgeIndices);\n",
    "    # Compute the Fiedler vector\n",
    "    FiedlerVector=GetFiedlerVector(Laplacian);\n",
    "    "
   ]
  },
  {
   "cell_type": "code",
   "execution_count": 217,
   "metadata": {},
   "outputs": [
    {
     "data": {
      "image/png": "[encoded data removed]",
      "text/plain": [
       "<matplotlib.figure.Figure at 0x1e959238eb8>"
      ]
     },
     "metadata": {},
     "output_type": "display_data"
    }
   ],
   "source": [
    "    # 1 d\n",
    "    plt.plot(sorted(FiedlerVector))\n",
    "    plt.show()    "
   ]
  },
  {
   "cell_type": "code",
   "execution_count": 216,
   "metadata": {},
   "outputs": [
    {
     "name": "stdout",
     "output_type": "stream",
     "text": [
      "[True, True, True, True, False, True, False, True, True, False, True, True, True, True, False, True, True, True, True, True, True, True, True, True, True, True, True, True, True, False, True, True, True, True, True, True, True, True, False, False]\n"
     ]
    },
    {
     "data": {
      "image/png": "[encoded data removed]",
      "text/plain": [
       "<matplotlib.figure.Figure at 0x1e959888978>"
      ]
     },
     "metadata": {},
     "output_type": "display_data"
    }
   ],
   "source": [
    "    \"\"\"define the conditions\"\"\"\n",
    "    #threshold = (min(FiedlerVector) + max(FiedlerVector)) / 2\n",
    "    #threshold = 0\n",
    "    \n",
    "    \"\"\"\n",
    "    c1 = Points[FiedlerVector>threshold]\n",
    "    c2 = Points[FiedlerVector<=threshold]\n",
    "    \"\"\"\n",
    "    \n",
    "    filt = [-0.01< x <0.01 for x in FiedlerVector]\n",
    "    print(filt)\n",
    "    c1 = Points[filt]\n",
    "    c2 = Points[[not x for x in filt]]\n",
    "    \n",
    "    \n",
    "    # Show the results\n",
    "    plt.scatter(c1[:,0], c1[:,1], color = 'g', marker = 'o')\n",
    "    plt.scatter(c2[:,0], c2[:,1], color = 'r', marker = 'o')\n",
    "    plt.show()"
   ]
  },
  {
   "cell_type": "code",
   "execution_count": null,
   "metadata": {},
   "outputs": [],
   "source": []
  }
 ],
 "metadata": {
  "kernelspec": {
   "display_name": "Python 3",
   "language": "python",
   "name": "python3"
  },
  "language_info": {
   "codemirror_mode": {
    "name": "ipython",
    "version": 3
   },
   "file_extension": ".py",
   "mimetype": "text/x-python",
   "name": "python",
   "nbconvert_exporter": "python",
   "pygments_lexer": "ipython3",
   "version": "3.5.0"
  }
 },
 "nbformat": 4,
 "nbformat_minor": 2
}

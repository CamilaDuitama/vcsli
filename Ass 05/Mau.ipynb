{
 "cells": [
  {
   "cell_type": "code",
   "execution_count": 2,
   "metadata": {},
   "outputs": [
    {
     "data": {
      "text/plain": [
       "<Figure size 640x480 with 1 Axes>"
      ]
     },
     "metadata": {},
     "output_type": "display_data"
    },
    {
     "data": {
      "text/plain": [
       "<Figure size 640x480 with 1 Axes>"
      ]
     },
     "metadata": {},
     "output_type": "display_data"
    },
    {
     "data": {
      "text/plain": [
       "<Figure size 640x480 with 1 Axes>"
      ]
     },
     "metadata": {},
     "output_type": "display_data"
    }
   ],
   "source": [
    "\"\"\"\n",
    "# 2nd\n",
    "\n",
    "import imageio\n",
    "import matplotlib.pyplot as plt\n",
    "import numpy as np\n",
    "\n",
    "#from scipy import signal\n",
    "\n",
    "img = imageio.imread('brain-noisy.png')\n",
    "mask = imageio.imread('mask.png')\n",
    "\n",
    "plt.imshow(mask)\n",
    "plt.title(\"Mask\")\n",
    "plt.show()\n",
    "\n",
    "plt.imshow(img)\n",
    "plt.title(\"Original\")\n",
    "plt.show()\n",
    "\n",
    "la = np.ma.minimum(mask, img)\n",
    "\n",
    "plt.imshow(la)\n",
    "plt.title(\"Original\")\n",
    "plt.show()\n",
    "\"\"\";"
   ]
  },
  {
   "cell_type": "code",
   "execution_count": 2,
   "metadata": {},
   "outputs": [
    {
     "ename": "NameError",
     "evalue": "name 'la' is not defined",
     "output_type": "error",
     "traceback": [
      "\u001b[1;31m---------------------------------------------------------------------------\u001b[0m",
      "\u001b[1;31mNameError\u001b[0m                                 Traceback (most recent call last)",
      "\u001b[1;32m<timed exec>\u001b[0m in \u001b[0;36m<module>\u001b[1;34m()\u001b[0m\n",
      "\u001b[1;31mNameError\u001b[0m: name 'la' is not defined"
     ]
    }
   ],
   "source": [
    "\"\"\"%%time\n",
    "from math import pi, sqrt, exp\n",
    "\n",
    "def nx(x, mu, sigma):\n",
    "    result = -(x- mu)**2\n",
    "    result /= 2*(sigma**2)\n",
    "    return exp(result)/(sqrt(2*pi)*sigma)\n",
    "\n",
    "    \n",
    "def e_step(data, mu, sigma, pi_, K):\n",
    "    result= np.zeros((data.shape[0], data.shape[1], K), dtype=float)\n",
    "    for i, line in enumerate(data):\n",
    "        for j, v in enumerate(line):\n",
    "            den = 0\n",
    "            if v:\n",
    "                for k in range(K):\n",
    "                    result[i,j][k] = nx(v, mu[k], sigma[k])*pi_[k]\n",
    "                    den+= result[i,j][k]\n",
    "                for k in range(K):\n",
    "                    result[i,j][k] /= den\n",
    "    return result\n",
    "\n",
    "def m_step(resp, data, K):\n",
    "    Nk = np.sum(resp, axis=(0,1))\n",
    "    #print(resp.shape, data.shape)\n",
    "    mu = [0]*K\n",
    "    for k in range(K):\n",
    "        for i, line in enumerate(data):\n",
    "            for j, val in enumerate(line):\n",
    "                if val:\n",
    "                    mu[k] += val*resp[i, j, k]\n",
    "        mu[k]/=Nk[k]\n",
    "    sigma = [0]*K\n",
    "    for k in range(K):\n",
    "        for i, line in enumerate(data):\n",
    "            for j, val in enumerate(line):\n",
    "                if val:\n",
    "                    sigma[k] += resp[i, j, k]*((val-mu[k])**2)\n",
    "        sigma[k]= sqrt(sigma[k]/Nk[k])\n",
    "    n=np.count_nonzero(data)\n",
    "    pi_= [x/n for x in Nk]\n",
    "    return (mu, sigma, pi_)\n",
    "\n",
    "def em_algorithm(data, k):\n",
    "    #initialize\n",
    "    mu=[10, 110, 240]\n",
    "    sigma=[5]*k\n",
    "    z=np.zeros((data.shape[0], data.shape[1], k), dtype=float)\n",
    "    for i in range(data.shape[0]):\n",
    "        for j in range(data.shape[1]):\n",
    "            if 0<data[i,j]<105: z[i,j,0]=1 \n",
    "            if 105<=data[i,j]<210: z[i,j,1]=1 \n",
    "            if data[i,j]>=210: z[i,j,2]=1\n",
    "    pi_ = np.average(z, axis=(0,1))\n",
    "    resp = e_step(data, mu, sigma, pi_, k)\n",
    "    mu, sigma, pi_ = m_step(resp, data, k)\n",
    "    resp = e_step(data, mu, sigma, pi_, k)\n",
    "\n",
    "    return resp\n",
    "\n",
    "\n",
    "\n",
    "rep=1\n",
    "def em_algorithm(data, k):\n",
    "    global rep\n",
    "    #initialize\n",
    "    mu=[10, 110, 240]\n",
    "    oldmu=[0]*k\n",
    "    sigma=[5]*k\n",
    "    olds =[0]*k\n",
    "    z=np.zeros((data.shape[0], data.shape[1], k), dtype=float)\n",
    "    for i in range(data.shape[0]):\n",
    "        for j in range(data.shape[1]):\n",
    "            if 0<data[i,j]<155: z[i,j,0]=1 \n",
    "            if 155<=data[i,j]<200: z[i,j,1]=1 \n",
    "            if data[i,j]>=200: z[i,j,2]=1\n",
    "    pi_ = np.average(z, axis=(0,1))\n",
    "    resp = e_step(data, mu, sigma, pi_, k)\n",
    "    while True:\n",
    "        mu, sigma, pi_ = m_step(resp, data, k)\n",
    "        cond = [abs(x[0]-x[1])>0.1 and abs(x[2]-x[3])>0.1 for x in zip(mu, oldmu, sigma, olds)]\n",
    "        if np.any(cond):\n",
    "            rep+=1\n",
    "            oldmu=mu\n",
    "            olds=sigma\n",
    "        else:\n",
    "            break\n",
    "        resp = e_step(data, mu, sigma, pi_, k)\n",
    "    return resp\n",
    "\n",
    "c=em_algorithm(la, 3)\n",
    "plt.imshow(c)\n",
    "plt.title(\"Visualization after \"+ str(rep)+ \" iterations\")\n",
    "plt.show()\n",
    "\"\"\";"
   ]
  },
  {
   "cell_type": "code",
   "execution_count": 1,
   "metadata": {},
   "outputs": [],
   "source": [
    "import imageio\n",
    "import matplotlib.pyplot as plt\n",
    "import numpy as np\n",
    "from matplotlib.ticker import NullFormatter\n",
    "#from scipy import signal\n",
    "\n",
    "img = imageio.imread('brain-noisy.png')\n",
    "mask = imageio.imread('mask.png')\n",
    "masked = np.ma.minimum(mask, img)\n"
   ]
  },
  {
   "cell_type": "code",
   "execution_count": 3,
   "metadata": {},
   "outputs": [
    {
     "name": "stdout",
     "output_type": "stream",
     "text": [
      "mu [33.188797705240354, 156.8231064463878, 224.83743658674663]\n",
      "sigma [39.24041901542087, 18.288060120924843, 20.403898727879763]\n",
      "pi [0.18950390125497593, 0.2891101688208323, 0.5213859299241924]\n"
     ]
    }
   ],
   "source": [
    "from math import pi, sqrt, exp\n",
    "\n",
    "def nx(x, mu, sigma):\n",
    "    result = -(x- mu)**2\n",
    "    result /= 2*(sigma**2)\n",
    "    return exp(result)/(sqrt(2*pi)*sigma)\n",
    "\n",
    "def e_step(data, mask, mu, sigma, pi_, K):\n",
    "    result= np.zeros((data.shape[0], data.shape[1], K), dtype=float)\n",
    "    for i, line in enumerate(data):\n",
    "        for j, v in enumerate(line):\n",
    "            den = 0\n",
    "            if mask[i][j]:\n",
    "                for k in range(K):\n",
    "                    result[i,j][k] = nx(v, mu[k], sigma[k])*pi_[k]\n",
    "                    den+= result[i,j][k]\n",
    "                for k in range(K):\n",
    "                    result[i,j][k] /= den\n",
    "    return result\n",
    "\n",
    "def m_step(resp, mask, data, K):\n",
    "    Nk = np.sum(resp, axis=(0,1))\n",
    "    mu = [0]*K\n",
    "    for k in range(K):\n",
    "        for i, line in enumerate(data):\n",
    "            for j, val in enumerate(line):\n",
    "                mu[k] += val*resp[i, j, k]\n",
    "        mu[k]/=Nk[k]\n",
    "    sigma = [0]*K\n",
    "    for k in range(K):\n",
    "        for i, line in enumerate(data):\n",
    "            for j, val in enumerate(line):\n",
    "                sigma[k] += resp[i, j, k]*((val-mu[k])**2)\n",
    "        sigma[k]= sqrt(sigma[k]/Nk[k])\n",
    "    n=np.count_nonzero(mask)\n",
    "    pi_= [x/n for x in Nk]\n",
    "    return (mu, sigma, pi_)\n",
    "\n",
    "\n",
    "def em_algorithm(data, mask, k):\n",
    "    #initialize\n",
    "    mu=[30, 150, 220]\n",
    "    sigma=[10,5,5]\n",
    "    oldmu=[0]*k\n",
    "    olds =[0]*k\n",
    "    z=np.zeros((data.shape[0], data.shape[1], k), dtype=float)\n",
    "    for i in range(data.shape[0]):\n",
    "        for j in range(data.shape[1]):\n",
    "            if mask[i][j]:\n",
    "                if 0<=data[i,j]<155: z[i,j,0]=1\n",
    "                if 155<=data[i,j]<200: z[i,j,1]=1 \n",
    "                if data[i,j]>=200: z[i,j,2]=1\n",
    "    pi_ = np.average(z, axis=(0,1))\n",
    "    resp = e_step(data, mask, mu, sigma, pi_, k)\n",
    "    mu, sigma, pi_ = m_step(resp, mask, data, k)\n",
    "    resp = e_step(data, mask, mu, sigma, pi_, k)\n",
    "    print(\"mu\", mu)\n",
    "    print(\"sigma\", sigma)\n",
    "    print(\"pi\",pi_)\n",
    "    return resp\n",
    "\n",
    "c=em_algorithm(masked, mask, 3)"
   ]
  },
  {
   "cell_type": "code",
   "execution_count": 4,
   "metadata": {},
   "outputs": [
    {
     "data": {
      "image/png": "[encoded data removed]",
      "text/plain": [
       "<Figure size 432x288 with 1 Axes>"
      ]
     },
     "metadata": {},
     "output_type": "display_data"
    }
   ],
   "source": [
    "\n",
    "def discretizing(matrix):\n",
    "    result = np.zeros_like(matrix)\n",
    "    for i, line in enumerate(matrix):\n",
    "        for j, rgb in enumerate(line):\n",
    "            if sum(rgb):\n",
    "                result[i,j] = [x==max(rgb) for x in rgb]\n",
    "    return result\n",
    "\n",
    "a= discretizing(c)\n",
    "a.shape\n",
    "plt.imshow(a)\n",
    "\n",
    "plt.title(\"Discretized GMM\")\n",
    "plt.show()\n"
   ]
  },
  {
   "cell_type": "code",
   "execution_count": 15,
   "metadata": {},
   "outputs": [
    {
     "data": {
      "image/png": "[encoded data removed]",
      "text/plain": [
       "<Figure size 432x288 with 1 Axes>"
      ]
     },
     "metadata": {},
     "output_type": "display_data"
    }
   ],
   "source": [
    "#Unary potential\n",
    "def V(xi,mu,sigma):\n",
    "    result=np.log(sqrt(2*np.pi)*sigma)\n",
    "    result+=((xi-mu)**2)/(2*(sigma**2))\n",
    "    return result\n",
    "\n",
    "#Define Generalized Potts Model\n",
    "def Potts(zi,zj,beta):\n",
    "    return 0 if np.all([x==y for x,y in zip(zi,zj)]) else beta\n",
    "\n",
    "#Function to retrieve the cliques:\n",
    "def cliques(array,i,j):\n",
    "    neighbours=[array[i-1][j],array[i+1][j],array[i][j-1],array[i][j+1]]\n",
    "    neighbours=[x for x in neighbours if x.any()]\n",
    "    return neighbours\n",
    "\n",
    "def energy(resp,neighbours,beta):\n",
    "    zmoozez=0\n",
    "    for each in neighbours:\n",
    "        zmoozez=Potts(resp,each,beta)+zmoozez\n",
    "    return zmoozez\n",
    "\n",
    "# 1 step ICM\n",
    "def ICM_init(data, mask, mu, sigma):\n",
    "    init = np.zeros((data.shape[0], data.shape[1], 3))\n",
    "    for i in range(1,len(init[0])-1):\n",
    "        for j in range(1,len(init[1])-1):\n",
    "            # if the point is backgroun, skip it\n",
    "            if mask[i][j]:\n",
    "                red= V(data[i][j],mu[0],sigma[0])\n",
    "                green= V(data[i][j],mu[1],sigma[1])\n",
    "                blue= V(data[i][j],mu[2],sigma[2])\n",
    "                dummie=min(red,blue,green)\n",
    "                init[i][j]=[dummie==red,dummie==green,dummie==blue]\n",
    "    return init\n",
    "\n",
    "def ICM(resp, data, mu, sigma, beta):\n",
    "    count=0\n",
    "    result = np.zeros_like(resp)\n",
    "    for i in range(1,len(resp[0])-1):\n",
    "        for j in range(1,len(resp[1])-1):\n",
    "            # if the point has no class, skip it\n",
    "            if not np.any(resp[i][j]):\n",
    "                continue\n",
    "            neighbours=cliques(resp,i,j)\n",
    "            red=energy(np.array([1. ,0., 0.]),neighbours,beta) + V(data[i][j],mu[0],sigma[0])\n",
    "            green=energy(np.array([0. ,1., 0.]),neighbours,beta) + V(data[i][j],mu[1],sigma[1])\n",
    "            blue=energy(np.array([0. ,0., 1.]),neighbours,beta) + V(data[i][j],mu[2],sigma[2])\n",
    "            dummie=min(red,blue,green)\n",
    "            result[i][j]=[dummie==red,dummie==green,dummie==blue]\n",
    "            if np.any([x!=y for x, y in zip(result[i][j], resp[i][j])]):\n",
    "                count+=1\n",
    "    return result, count\n",
    "\n",
    "\n",
    "# 1 step Iterated Conditional Models(ICM):\n",
    "def ICM1(data, mask, mu, sigma, beta):\n",
    "    # using a reasonable init\n",
    "    resp = ICM_init(data, mask, mu, sigma)\n",
    "    return ICM(resp, data, mu, sigma, beta)\n",
    "\n",
    "# using the 2 step EM end parameters \n",
    "mymu = [33.188797705240354, 156.8231064463878, 224.83743658674663]\n",
    "mysigma = [39.24041901542087, 18.288060120924843, 20.403898727879763]\n",
    "\n",
    "first,_ = ICM1(masked, mask, mymu, mysigma, 0.5)\n",
    "plt.imshow(first)\n",
    "plt.show()"
   ]
  },
  {
   "cell_type": "code",
   "execution_count": 17,
   "metadata": {},
   "outputs": [
    {
     "name": "stdout",
     "output_type": "stream",
     "text": [
      "Iteration 1 - Change in labels: 137\n",
      "Iteration 2 - Change in labels: 28\n",
      "Iteration 3 - Change in labels: 23\n",
      "Iteration 4 - Change in labels: 23\n",
      "Iteration 5 - Change in labels: 23\n"
     ]
    },
    {
     "data": {
      "image/png": "[encoded data removed]",
      "text/plain": [
       "<Figure size 432x288 with 1 Axes>"
      ]
     },
     "metadata": {},
     "output_type": "display_data"
    }
   ],
   "source": [
    "# 5 step Iterated Conditional Models(ICM):\n",
    "def ICM5(data, mask, mu, sigma, beta):\n",
    "    # using a reasonable init\n",
    "    resp = ICM_init(data, mask, mu, sigma)\n",
    "    for i in range(5):\n",
    "        resp, cnt = ICM(resp, data, mu, sigma, beta)\n",
    "        print(\"Iteration\", i+1,\"- Change in labels:\", cnt)\n",
    "    return resp, cnt\n",
    "\n",
    "# using the 2 step EM end parameters \n",
    "mymu = [33.188797705240354, 156.8231064463878, 224.83743658674663]\n",
    "mysigma = [39.24041901542087, 18.288060120924843, 20.403898727879763]\n",
    "\n",
    "first,_ = ICM5(masked, mask, mymu, mysigma, 0.5)\n",
    "plt.imshow(first)\n",
    "plt.show()"
   ]
  },
  {
   "cell_type": "code",
   "execution_count": 40,
   "metadata": {},
   "outputs": [],
   "source": [
    "# 5 step Iterated Conditional Models(ICM):\n",
    "def ICM_EM(data, mask, mu, sigma, beta):\n",
    "    # using a reasonable init\n",
    "    resp = ICM_init(data, mask, mu, sigma)\n",
    "    resp, cnt = ICM(resp, data, mu, sigma, beta)\n",
    "    # resp contains the hard labels\n",
    "    # Calculate posterior distribution of labels ???\n",
    "    cnt = 100\n",
    "    rep=0\n",
    "    oldmu=[0]*3\n",
    "    oldsi=[0]*3\n",
    "    cond=[True]*3\n",
    "    while cnt and rep<15 and np.any(cond):\n",
    "        prev = resp.copy()\n",
    "        oldmu, oldsi = mu, sigma\n",
    "        mu, sigma, _ = m_step(resp, mask, data, K=3)\n",
    "        resp, cnt = ICM(resp, data, mu, sigma, beta)\n",
    "        cond = [abs(x[0]-x[1])>0.1 and abs(x[2]-x[3])>0.1 for x in zip(mu, oldmu, sigma, oldsi)]\n",
    "        print(\"changed:\", cnt)\n",
    "        print(\"mu\", mu)\n",
    "        print(\"sigma\", sigma)\n",
    "        rep+=1\n",
    "    return resp, prev"
   ]
  },
  {
   "cell_type": "code",
   "execution_count": 41,
   "metadata": {},
   "outputs": [
    {
     "name": "stdout",
     "output_type": "stream",
     "text": [
      "changed: 102\n",
      "mu [35.277415143603136, 159.40706476030277, 226.12002017145738]\n",
      "sigma [40.8064838523122, 18.533809277590812, 19.564257694125136]\n",
      "changed: 49\n",
      "mu [37.110331632653065, 160.67698744769874, 226.5696784073507]\n",
      "sigma [42.076187523617826, 18.127311675519703, 19.25105141414296]\n",
      "changed: 31\n",
      "mu [38.18753933291378, 161.3757828810021, 226.80678314491263]\n",
      "sigma [42.823287228580796, 17.943774345111034, 19.092210796147203]\n",
      "changed: 17\n",
      "mu [38.78201124297314, 161.80708333333334, 226.9625806451613]\n",
      "sigma [43.208563546189055, 17.82848469424852, 18.9869467840139]\n",
      "changed: 7\n",
      "mu [39.299813780260706, 162.05632040050062, 227.02843846949327]\n",
      "sigma [43.57110094953059, 17.720697245482384, 18.940122760918033]\n",
      "changed: 1\n",
      "mu [39.61038961038961, 162.16638795986623, 227.03775536591672]\n",
      "sigma [43.787524206108586, 17.63962192154651, 18.933706893129028]\n",
      "changed: 0\n",
      "mu [39.61038961038961, 162.1792728792311, 227.04655975168131]\n",
      "sigma [43.787524206108586, 17.647191176759172, 18.928238834100668]\n"
     ]
    },
    {
     "data": {
      "image/png": "[encoded data removed]",
      "text/plain": [
       "<Figure size 432x288 with 1 Axes>"
      ]
     },
     "metadata": {},
     "output_type": "display_data"
    }
   ],
   "source": [
    "final,cnt = ICM_EM(masked, mask, mymu,mysigma,0.5)\n",
    "plt.imshow(final)\n",
    "plt.show()"
   ]
  },
  {
   "cell_type": "code",
   "execution_count": 43,
   "metadata": {},
   "outputs": [
    {
     "name": "stdout",
     "output_type": "stream",
     "text": [
      "changed: 967\n",
      "mu [58.989375, 158.4747474747475, 221.86240463036043]\n",
      "sigma [66.70379870824024, 49.59963005611953, 22.777460147507345]\n",
      "changed: 858\n",
      "mu [69.04566563467492, 152.4297794117647, 213.79166666666666]\n",
      "sigma [70.53676503180027, 55.56436578905138, 48.811096162751504]\n",
      "changed: 662\n",
      "mu [84.0527289546716, 151.29233576642335, 203.3304562268804]\n",
      "sigma [71.01438919772777, 60.96539295649463, 63.52775287708337]\n",
      "changed: 579\n",
      "mu [76.79429133858268, 150.42189781021898, 203.81747572815533]\n",
      "sigma [67.42111172321225, 58.98853744315936, 63.682927292795924]\n",
      "changed: 552\n",
      "mu [83.27845528455285, 149.84273318872016, 202.0106640814348]\n",
      "sigma [68.56573386924751, 61.99289310647787, 65.01696622375921]\n",
      "changed: 543\n",
      "mu [78.47107438016529, 149.72381297571584, 202.6654615570017]\n",
      "sigma [66.40773122622333, 60.29434730217845, 64.90762047049013]\n",
      "changed: 541\n",
      "mu [82.70582120582121, 149.72743682310468, 201.64068532818533]\n",
      "sigma [67.67022692944968, 62.194672873674044, 65.37621297599351]\n",
      "changed: 540\n",
      "mu [78.43782654127482, 149.54347826086956, 202.47703774945902]\n",
      "sigma [66.08530909388787, 60.477552377100274, 65.07148039823448]\n",
      "changed: 542\n",
      "mu [82.67297581493165, 149.55839942321558, 201.4960250542038]\n",
      "sigma [67.2733277470374, 62.33887678251199, 65.55034639427846]\n",
      "changed: 542\n",
      "mu [78.68802521008404, 149.31657018813314, 202.47235576923077]\n",
      "sigma [66.01738012412456, 60.698455174701955, 65.0636094468947]\n",
      "changed: 543\n",
      "mu [82.56118143459915, 149.5, 201.47472315840153]\n",
      "sigma [67.17239182191447, 62.39872111301075, 65.53779198022849]\n",
      "changed: 537\n",
      "mu [78.55625657202944, 149.24719507781398, 202.50600672753484]\n",
      "sigma [65.9268365809429, 60.77311110658134, 64.97601736588884]\n",
      "changed: 538\n",
      "mu [82.56118143459915, 149.34176300578034, 201.5050480769231]\n",
      "sigma [67.17239182191447, 62.4824157118815, 65.4263125841817]\n",
      "changed: 538\n",
      "mu [78.55625657202944, 149.2367849384504, 202.50012010569301]\n",
      "sigma [65.9268365809429, 60.78164865659946, 64.96932284815287]\n",
      "changed: 538\n",
      "mu [82.56118143459915, 149.34176300578034, 201.5050480769231]\n",
      "sigma [67.17239182191447, 62.4824157118815, 65.4263125841817]\n"
     ]
    },
    {
     "data": {
      "image/png": "[encoded data removed]",
      "text/plain": [
       "<Figure size 432x288 with 1 Axes>"
      ]
     },
     "metadata": {},
     "output_type": "display_data"
    },
    {
     "data": {
      "image/png": "[encoded data removed]",
      "text/plain": [
       "<Figure size 432x288 with 1 Axes>"
      ]
     },
     "metadata": {},
     "output_type": "display_data"
    }
   ],
   "source": [
    "final,cnt = ICM_EM(masked, mask, mymu,mysigma,12)\n",
    "plt.imshow(cnt)\n",
    "plt.show()\n",
    "plt.imshow(final)\n",
    "plt.show()"
   ]
  },
  {
   "cell_type": "code",
   "execution_count": 42,
   "metadata": {},
   "outputs": [
    {
     "name": "stdout",
     "output_type": "stream",
     "text": [
      "changed: 834\n",
      "mu [56.06638503319252, 162.57042253521126, 221.9605781865966]\n",
      "sigma [65.58096847761014, 43.07525797117097, 22.51140220200987]\n",
      "changed: 644\n",
      "mu [64.56612685560054, 151.98555555555555, 223.0262587980509]\n",
      "sigma [71.97832941407887, 55.984562808327084, 20.626834074719707]\n",
      "changed: 557\n",
      "mu [65.76073187895848, 152.34062830921286, 222.21976808393154]\n",
      "sigma [71.80052244805354, 60.439344212751564, 20.8494979302622]\n",
      "changed: 519\n",
      "mu [65.26962209302326, 150.4896408839779, 223.16259711431744]\n",
      "sigma [72.30128626647944, 60.06784748539335, 19.895347158016964]\n",
      "changed: 506\n",
      "mu [65.74668630338734, 151.0418509697176, 222.6071528359877]\n",
      "sigma [71.26752095808617, 62.22655008924313, 20.134818419676638]\n",
      "changed: 501\n",
      "mu [65.26472781506338, 150.10896785109983, 223.13268156424581]\n",
      "sigma [72.0405419747327, 61.2973637786366, 19.783125648061297]\n",
      "changed: 499\n",
      "mu [66.38955223880598, 150.4482990906029, 222.67003083823943]\n",
      "sigma [71.48178274202868, 62.92272954613989, 20.037899514671732]\n",
      "changed: 499\n",
      "mu [65.25563909774436, 149.91215079097947, 223.1406993006993]\n",
      "sigma [71.8739240924079, 61.66273473269247, 19.760752429346212]\n",
      "changed: 496\n",
      "mu [66.3615903975994, 150.37437101643744, 222.67855137563166]\n",
      "sigma [71.41545929998624, 63.11160118346072, 20.01553959276467]\n",
      "changed: 494\n",
      "mu [65.3539156626506, 149.86827956989248, 223.15481522956327]\n",
      "sigma [71.8833646763818, 61.770387468493965, 19.73423213664457]\n",
      "changed: 493\n",
      "mu [66.28828828828829, 150.38652363392558, 222.69250210614996]\n",
      "sigma [71.39211656254692, 63.09229264578022, 20.001027001195823]\n",
      "changed: 493\n",
      "mu [65.40316503391108, 149.8179375209943, 223.15481522956327]\n",
      "sigma [71.88804463956485, 61.82104191474797, 19.73423213664457]\n",
      "changed: 493\n",
      "mu [66.28828828828829, 150.38652363392558, 222.69250210614996]\n",
      "sigma [71.39211656254692, 63.09229264578022, 20.001027001195823]\n",
      "changed: 493\n",
      "mu [65.40316503391108, 149.8179375209943, 223.15481522956327]\n",
      "sigma [71.88804463956485, 61.82104191474797, 19.73423213664457]\n",
      "changed: 493\n",
      "mu [66.28828828828829, 150.38652363392558, 222.69250210614996]\n",
      "sigma [71.39211656254692, 63.09229264578022, 20.001027001195823]\n"
     ]
    },
    {
     "data": {
      "image/png": "[encoded data removed]",
      "text/plain": [
       "<Figure size 432x288 with 1 Axes>"
      ]
     },
     "metadata": {},
     "output_type": "display_data"
    },
    {
     "data": {
      "image/png": "[encoded data removed]",
      "text/plain": [
       "<Figure size 432x288 with 1 Axes>"
      ]
     },
     "metadata": {},
     "output_type": "display_data"
    }
   ],
   "source": [
    "final, prev = ICM_EM(masked, mask, mymu,mysigma,11)\n",
    "plt.imshow(prev)\n",
    "plt.show()\n",
    "plt.imshow(final)\n",
    "plt.show()"
   ]
  },
  {
   "cell_type": "code",
   "execution_count": 38,
   "metadata": {},
   "outputs": [
    {
     "name": "stdout",
     "output_type": "stream",
     "text": [
      "changed: 818\n",
      "mu [55.90717299578059, 162.5671765192228, 222.19773565034228]\n",
      "sigma [65.33220945067391, 42.95410239660071, 21.93924122577074]\n",
      "changed: 625\n",
      "mu [64.98453261600538, 152.15631929046563, 223.06272060819984]\n",
      "sigma [72.35223861021899, 56.03926692199427, 20.427088750064378]\n",
      "changed: 537\n",
      "mu [66.02178496134927, 152.32863684395915, 222.3289983397897]\n",
      "sigma [72.02770570958427, 60.463917383241615, 20.511013285886957]\n",
      "changed: 501\n",
      "mu [65.5878084179971, 150.5241379310345, 223.18148971650916]\n",
      "sigma [72.55968903292928, 60.13334983341491, 19.789894777425793]\n",
      "changed: 485\n",
      "mu [65.96980854197349, 150.98709239130434, 222.6675993284835]\n",
      "sigma [71.52950183941522, 62.22555370971481, 19.98497692624761]\n",
      "changed: 479\n",
      "mu [65.38777032065623, 150.20202360876897, 223.21372549019608]\n",
      "sigma [72.13958401584122, 61.297043022134496, 19.685936963526274]\n",
      "changed: 474\n",
      "mu [66.35276532137519, 150.48538797447094, 222.72732378545354]\n",
      "sigma [71.4731884188512, 62.956206324760586, 19.88115653364571]\n",
      "changed: 474\n",
      "mu [65.5487987987988, 150.03050620181025, 223.26734063465318]\n",
      "sigma [72.05205319370123, 61.648491042763794, 19.626657848943996]\n",
      "changed: 472\n",
      "mu [66.40915915915916, 150.41150886584143, 222.74824191279887]\n",
      "sigma [71.44657177788541, 63.14438266856778, 19.84757441072595]\n",
      "changed: 470\n",
      "mu [65.64736842105263, 150.02174640347943, 223.2727017149283]\n",
      "sigma [72.0613231739889, 61.77537197755644, 19.595182514394267]\n"
     ]
    },
    {
     "data": {
      "image/png": "[encoded data removed]",
      "text/plain": [
       "<Figure size 432x288 with 1 Axes>"
      ]
     },
     "metadata": {},
     "output_type": "display_data"
    }
   ],
   "source": [
    "final,cnt = ICM_EM(masked, mask, mymu,mysigma,10)\n",
    "plt.imshow(final)\n",
    "plt.show()"
   ]
  },
  {
   "cell_type": "code",
   "execution_count": null,
   "metadata": {},
   "outputs": [],
   "source": []
  }
 ],
 "metadata": {
  "kernelspec": {
   "display_name": "Python 3",
   "language": "python",
   "name": "python3"
  },
  "language_info": {
   "codemirror_mode": {
    "name": "ipython",
    "version": 3
   },
   "file_extension": ".py",
   "mimetype": "text/x-python",
   "name": "python",
   "nbconvert_exporter": "python",
   "pygments_lexer": "ipython3",
   "version": "3.6.5"
  }
 },
 "nbformat": 4,
 "nbformat_minor": 2
}

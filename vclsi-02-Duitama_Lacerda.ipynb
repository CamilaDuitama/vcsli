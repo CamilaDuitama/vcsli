{
 "cells": [
  {
   "cell_type": "markdown",
   "metadata": {},
   "source": [
    "# Visual Computing in the Life Sciences\n",
    "## Assignment Sheet 2"
   ]
  },
  {
   "cell_type": "markdown",
   "metadata": {},
   "source": [
    "### Exercise 1 (Producing a Scatterplot Matrix, 25 Points)"
   ]
  },
  {
   "cell_type": "markdown",
   "metadata": {},
   "source": [
    "In the previous assignment, you wrote a reduced dataset to disk that is limited to the benign and malignant classes and five variables that most strongly distinguish between benign and malignant samples.\n",
    "This week, you will create and interpret a basic visualization of that data.\n",
    "In this assignment your final visualization should be a 5 X 5 matrix whose rows and columns are the\n",
    "measurements of the variables you selected last week. Diagonal cells visualize how the variables are\n",
    "distributed; off-diagonal cells visualize the relationship between the values of pairs of variables.\n",
    "Please proceed in the following steps and submit your final script, the final image, and answers to the\n",
    "questions:\n"
   ]
  },
  {
   "cell_type": "markdown",
   "metadata": {},
   "source": [
    "a) Each diagonal cell should contain two overlaid histograms, one for the benign and one for the\n",
    "malignant class. In the histogram, variable values should be on the x axis, the frequency of\n",
    "observing that value in each class should be on the y axis. Use different colors to distinguish\n",
    "between the classes, and add a legend. Your visual design should make it easy to answer the\n",
    "following questions (5P for implementation, 1P for justifying choice of colors, 3P for answering\n",
    "questions):"
   ]
  },
  {
   "cell_type": "markdown",
   "metadata": {},
   "source": [
    "- For which variable(s) you could find a range of values for which the class of the sample is\n",
    "certain? Write down the ranges."
   ]
  },
  {
   "cell_type": "code",
   "execution_count": 8,
   "metadata": {
    "collapsed": true
   },
   "outputs": [],
   "source": [
    "import pandas as pd\n",
    "import numpy as np\n",
    "import matplotlib.mlab as mlab\n",
    "import matplotlib.pyplot as plt\n",
    "import matplotlib \n",
    "from matplotlib.lines import Line2D\n"
   ]
  },
  {
   "cell_type": "code",
   "execution_count": 9,
   "metadata": {},
   "outputs": [],
   "source": [
    "##MAURICIOOO I provided the table with the class feature too :D\n",
    "data=pd.read_excel('reduced_dataset.xlsx')\n",
    "data.head()\n",
    "variables=['thickness','uniCelS','uniCelShape','bareNuc','blaChroma']\n",
    "\n"
   ]
  },
  {
   "cell_type": "code",
   "execution_count": 10,
   "metadata": {},
   "outputs": [
    {
     "data": {
      "text/html": [
       "<div>\n",
       "<style>\n",
       "    .dataframe thead tr:only-child th {\n",
       "        text-align: right;\n",
       "    }\n",
       "\n",
       "    .dataframe thead th {\n",
       "        text-align: left;\n",
       "    }\n",
       "\n",
       "    .dataframe tbody tr th {\n",
       "        vertical-align: top;\n",
       "    }\n",
       "</style>\n",
       "<table border=\"1\" class=\"dataframe\">\n",
       "  <thead>\n",
       "    <tr style=\"text-align: right;\">\n",
       "      <th></th>\n",
       "      <th>thickness</th>\n",
       "      <th>uniCelS</th>\n",
       "      <th>uniCelShape</th>\n",
       "      <th>bareNuc</th>\n",
       "      <th>blaChroma</th>\n",
       "      <th>class</th>\n",
       "    </tr>\n",
       "  </thead>\n",
       "  <tbody>\n",
       "    <tr>\n",
       "      <th>0</th>\n",
       "      <td>5</td>\n",
       "      <td>1</td>\n",
       "      <td>1</td>\n",
       "      <td>1.0</td>\n",
       "      <td>3</td>\n",
       "      <td>2</td>\n",
       "    </tr>\n",
       "    <tr>\n",
       "      <th>1</th>\n",
       "      <td>5</td>\n",
       "      <td>4</td>\n",
       "      <td>4</td>\n",
       "      <td>10.0</td>\n",
       "      <td>3</td>\n",
       "      <td>2</td>\n",
       "    </tr>\n",
       "    <tr>\n",
       "      <th>2</th>\n",
       "      <td>3</td>\n",
       "      <td>1</td>\n",
       "      <td>1</td>\n",
       "      <td>2.0</td>\n",
       "      <td>3</td>\n",
       "      <td>2</td>\n",
       "    </tr>\n",
       "    <tr>\n",
       "      <th>3</th>\n",
       "      <td>6</td>\n",
       "      <td>8</td>\n",
       "      <td>8</td>\n",
       "      <td>4.0</td>\n",
       "      <td>3</td>\n",
       "      <td>2</td>\n",
       "    </tr>\n",
       "    <tr>\n",
       "      <th>4</th>\n",
       "      <td>4</td>\n",
       "      <td>1</td>\n",
       "      <td>1</td>\n",
       "      <td>1.0</td>\n",
       "      <td>3</td>\n",
       "      <td>2</td>\n",
       "    </tr>\n",
       "  </tbody>\n",
       "</table>\n",
       "</div>"
      ],
      "text/plain": [
       "   thickness  uniCelS  uniCelShape  bareNuc  blaChroma  class\n",
       "0          5        1            1      1.0          3      2\n",
       "1          5        4            4     10.0          3      2\n",
       "2          3        1            1      2.0          3      2\n",
       "3          6        8            8      4.0          3      2\n",
       "4          4        1            1      1.0          3      2"
      ]
     },
     "execution_count": 10,
     "metadata": {},
     "output_type": "execute_result"
    }
   ],
   "source": [
    "benign = data[data['class']==2]\n",
    "malignant = data[data['class']==4]\n",
    "benign.head()"
   ]
  },
  {
   "cell_type": "code",
   "execution_count": 23,
   "metadata": {
    "collapsed": true
   },
   "outputs": [],
   "source": [
    "\n",
    "#Function to create an array of marker size for each point, depending on its frequency percentage\n",
    "def marker_size(variable): \n",
    "    \"\"\"\n",
    "    variable should be the column of a dataframe for which I wish to create an array of marker sizes\n",
    "    \n",
    "    \"\"\"\n",
    "    #Create a frequency table \n",
    "    base=pd.crosstab(index=variable, columns='count',).sort_values(by='count')\n",
    "\n",
    "    y=len(variable)\n",
    "\n",
    "    #Determine a function for the marker size based on the ratio of occurence of the value divided by the \n",
    "    #set size: The percentage of occurence of such value in the dataset.\n",
    "    \n",
    "    set_size= lambda x:((x/y)*1000)\n",
    "    \n",
    "    #Create a column called size, for the marker size that corresponds to each value\n",
    "    base['size'] = base.apply(lambda x: set_size(base['count']))\n",
    "    \n",
    "    size_array=[]\n",
    "    \n",
    "    #create an array with marker sizes for each element in the dataset.\n",
    "    for each in variable:\n",
    "        size_array.append(int(base.loc[[each],['size']]['size']))\n",
    "    return size_array\n"
   ]
  },
  {
   "cell_type": "code",
   "execution_count": 30,
   "metadata": {},
   "outputs": [],
   "source": [
    "def draw_histograms(data, variables, nrows, ncols):\n",
    "\n",
    "    #Creating the figure where the subplots will be\n",
    "    fig,axes=plt.subplots(nrows,ncols,sharex=True, figsize=(20,20))\n",
    "    \n",
    "    #Setting up the colours for bening and malignant datasets, as well as the datasets themselves.\n",
    "    c=['#d8b365','#5ab4ac']\n",
    "    benign = data[data['class']==2]\n",
    "    malignant = data[data['class']==4]\n",
    "    \n",
    "    for i in range(0,5):\n",
    "        \n",
    "        #Naming x and y labels for the whole figure class\n",
    "        axes[4,i].set_xlabel(variables[i])\n",
    "        axes[i,0].set_ylabel(variables[i])\n",
    "        \n",
    "        y = malignant[variables[i]]\n",
    "\n",
    "        for j in range(0,5):\n",
    "            \n",
    "            x = benign[variables[j]]\n",
    "            \n",
    "            if j==i:\n",
    "            \n",
    "                axes[i,j].hist(x, bins=20, alpha=0.65, label='Benign',color=c[0])\n",
    "                axes[i,j].hist(y, bins=20, alpha=0.65, label='Malign',color=c[1])\n",
    "            \n",
    "            else:        \n",
    "                \n",
    "                #size is the array of arrays for the malign and bening datasets, based on the\n",
    "                #frequency of each value on the WHOLE dataset\n",
    "                size=np.array([[marker_size(data[variables[j]])],[marker_size(data[variables[i]])]])                \n",
    "    \n",
    "    \n",
    "                #Overlapped scatter plots for bening and malignant datasets for each of the variables.\n",
    "                axes[i,j].scatter(benign[variables[j]],benign[variables[i]],alpha=0.3,color=c[0],s=size)\n",
    "                axes[i,j].scatter(malignant[variables[j]],malignant[variables[i]],alpha=0.3,color=c[1],s=size)\n",
    "        \n",
    "\n",
    "    \n",
    "    \n",
    "    \n",
    "    fig.text(0.5,0.04,'Variables', ha='center', va='center', fontsize=30)\n",
    "    fig.text(0.05,0.5,'Frequency', ha='center', va='center', \\\n",
    "                 rotation='vertical',fontsize=30)\n",
    "    \n",
    "    cami = [Line2D([0], [0], marker='o', color=c[0], label='Scatter',markerfacecolor=c[0], markersize=15),\\\n",
    "          Line2D([0], [0], marker='o', color=c[1], label='Scatter',markerfacecolor=c[1], markersize=15)]\n",
    "    \n",
    "    \n",
    "    fig.legend(handles=cami,labels=('Bening','Malignant'),loc='upper right',prop={'size': 16})\n",
    "    plt.show()\n",
    "\n",
    "    return\n"
   ]
  },
  {
   "cell_type": "code",
   "execution_count": null,
   "metadata": {},
   "outputs": [],
   "source": [
    "draw_histograms(data,variables,5,5)\n"
   ]
  },
  {
   "cell_type": "markdown",
   "metadata": {},
   "source": [
    "- Which variable(s) has(have) almost a uniform distribution for the malignant samples?"
   ]
  },
  {
   "cell_type": "markdown",
   "metadata": {},
   "source": [
    "b) In each non-diagonal cell, display a scatter plot that visualizes the values of the corresponding\n",
    "pair of variables. Use different colors and opacities so that it is simple to relate these scatter\n",
    "plots to the density plots on the diagonal, and the size of the marker should reflect the number of\n",
    "overlapping points. (5P for implementation, 2P for answering questions):\n"
   ]
  },
  {
   "cell_type": "code",
   "execution_count": null,
   "metadata": {
    "collapsed": true
   },
   "outputs": [],
   "source": [
    "def draw_histograms(bening, malign, variables, nrows, ncols):\n",
    "    fig,axes=plt.subplots(nrows,ncols,sharex=True, sharey=True, figsize=(20,20))\n",
    "\n",
    "    i=4\n"
   ]
  },
  {
   "cell_type": "markdown",
   "metadata": {},
   "source": [
    "- Point out a pair of variables whose values have a positive correlation overall.\n"
   ]
  },
  {
   "cell_type": "markdown",
   "metadata": {},
   "source": [
    "- Can you identify a pair of variables for which the values are highly correlated in one group\n",
    "of subjects (e.g. malignant), but less so in the other group?"
   ]
  },
  {
   "cell_type": "markdown",
   "metadata": {},
   "source": [
    "c) Compute the distance consistency of all scatter plots. Which pair of variables leads to the highest\n",
    "distance consistency? (6P)"
   ]
  },
  {
   "cell_type": "code",
   "execution_count": null,
   "metadata": {
    "collapsed": true
   },
   "outputs": [],
   "source": []
  },
  {
   "cell_type": "markdown",
   "metadata": {},
   "source": [
    "d) Imagine that, given only the values of two variables, you will be asked to decide whether they are\n",
    "from a benign sample, or a malignant one. Which pair of variables would you choose to make\n",
    "that decision? Why? (3P)\n",
    "Hint: You can use the Python toolkit matplotlib to create plots. More information on it is available\n",
    "from http://matplotlib.org/."
   ]
  },
  {
   "cell_type": "code",
   "execution_count": null,
   "metadata": {
    "collapsed": true
   },
   "outputs": [],
   "source": []
  },
  {
   "cell_type": "markdown",
   "metadata": {},
   "source": [
    "### Exercise 2 (Principal Component Analysis, 25 Points)\n"
   ]
  },
  {
   "cell_type": "markdown",
   "metadata": {},
   "source": [
    "It is difficult to fully visualize a very high-dimensional space. In the first assignment sheet and the\n",
    "previous exercise, we therefore focused on a few variables that we found to be particularly discriminative.\n",
    "In this exercise, we will instead employ dimensionality reduction on the values of all variables."
   ]
  },
  {
   "cell_type": "markdown",
   "metadata": {},
   "source": [
    "a) Perform a Principal Component Analysis (PCA) on the values.\n",
    "Write a program to read the breast-cancer-wisconsin.xlsx fole again. Interpolate missing\n",
    "values as before, but keep all variables this time. Make a plot that, for any number n, shows what\n",
    "fraction of the overall variance in the data is contained in the first n principal components. How\n",
    "many components do we need to cover 90% of the variance? (5P). Hint: You may use the implementation of PCA that is provided in the Python package scikit-learn.\n"
   ]
  },
  {
   "cell_type": "code",
   "execution_count": null,
   "metadata": {
    "collapsed": true
   },
   "outputs": [],
   "source": []
  },
  {
   "cell_type": "markdown",
   "metadata": {},
   "source": [
    "b) Each sample is now characterized by a point in PCA space. Create a scatter plot matrix (in the\n",
    "same manner as in the previous sheet) that shows the first five principal components. This time,\n",
    "instead of histograms, each diagonal cell should contain two overlaid density plots, one for the\n",
    "benign and one for the malignant class. In the density plot, variable values should be on the x\n",
    "axis, the frequency of observing that value in each class should be on the y axis. Use different\n",
    "colors to distinguish between the classes, and add a legend. (5P)"
   ]
  },
  {
   "cell_type": "code",
   "execution_count": null,
   "metadata": {
    "collapsed": true
   },
   "outputs": [],
   "source": []
  },
  {
   "cell_type": "markdown",
   "metadata": {},
   "source": [
    "c) In which PCA modes do you see a clear difference between the benign samples and the malignant\n",
    "samples, in which modes the difference is less? (3P)"
   ]
  },
  {
   "cell_type": "code",
   "execution_count": null,
   "metadata": {
    "collapsed": true
   },
   "outputs": [],
   "source": []
  },
  {
   "cell_type": "markdown",
   "metadata": {},
   "source": [
    "d) Sometimes outliers (points that are quite far away from the rest of the data) could affect the data\n",
    "analysis. Provide the sample-Code or row index of the furthest point of malignant samples in the\n",
    "fourth PCA mode. Then remove that sample using its row index. (5P)"
   ]
  },
  {
   "cell_type": "code",
   "execution_count": null,
   "metadata": {
    "collapsed": true
   },
   "outputs": [],
   "source": []
  },
  {
   "cell_type": "markdown",
   "metadata": {},
   "source": [
    "e) See what happens when we re-weight the variables to emphasize those that discriminate well\n",
    "between the benign and malignant classes. To do so, compute F scores (cf. sheet 2, task 1 d))\n",
    "and multiply each data value by its corresponding F score. Create two scatter plots to compare\n",
    "PCA results with and without the re-weighting. (5P)"
   ]
  },
  {
   "cell_type": "code",
   "execution_count": null,
   "metadata": {
    "collapsed": true
   },
   "outputs": [],
   "source": []
  },
  {
   "cell_type": "markdown",
   "metadata": {},
   "source": [
    "f) In the breast cancer data-set, all the variables have a similar range of values v 2 [1; 10]. If the\n",
    "variables of a data-set have varying ranges, for example one variable have values around 1000 to\n",
    "2000 and another around 1 to 5, how could this a\u000b",
    "ect the PCA performance. Explain how would\n",
    "you solve this problem? (2P)"
   ]
  },
  {
   "cell_type": "code",
   "execution_count": null,
   "metadata": {
    "collapsed": true
   },
   "outputs": [],
   "source": []
  }
 ],
 "metadata": {
  "kernelspec": {
   "display_name": "Python 3",
   "language": "python",
   "name": "python3"
  },
  "language_info": {
   "codemirror_mode": {
    "name": "ipython",
    "version": 3
   },
   "file_extension": ".py",
   "mimetype": "text/x-python",
   "name": "python",
   "nbconvert_exporter": "python",
   "pygments_lexer": "ipython3",
   "version": "3.6.2"
  }
 },
 "nbformat": 4,
 "nbformat_minor": 2
}

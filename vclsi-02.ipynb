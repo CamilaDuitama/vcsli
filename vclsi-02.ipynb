{
 "cells": [
  {
   "cell_type": "code",
   "execution_count": 6,
   "metadata": {},
   "outputs": [
    {
     "name": "stdout",
     "output_type": "stream",
     "text": [
      "Column names: ['thickness' 'uniCelS' 'uniCelShape' 'bareNuc' 'blaChroma']\n"
     ]
    }
   ],
   "source": [
    "import pandas as pd\n",
    "import numpy as np\n",
    "import matplotlib.pyplot as plt\n",
    "\n",
    "data = pd.read_excel('reduced_dataset.xlsx', 0, \\\n",
    "                     index_row=0, na_values=[''])\n",
    "print(\"Column names:\", data.columns.get_values())"
   ]
  },
  {
   "cell_type": "code",
   "execution_count": 12,
   "metadata": {},
   "outputs": [
    {
     "data": {
      "image/png": "[encoded data removed]",
      "text/plain": [
       "<matplotlib.figure.Figure at 0x1e9e60b87f0>"
      ]
     },
     "metadata": {},
     "output_type": "display_data"
    }
   ],
   "source": [
    "# 2 overlaid histograms\n",
    "#######################\n",
    "\n",
    "x = data['thickness']\n",
    "y = data['uniCelS'] # np.random.normal(-1, 3, 2000)\n",
    "# bins = np.linspace(-10, 10, 30)\n",
    "\n",
    "# plt.hist([x, y], bins, label=['x', 'y'])\n",
    "plt.hist([x, y], label=['thickness', 'uniCelS'])\n",
    "plt.legend(loc='upper right')\n",
    "plt.show()\n",
    "\n"
   ]
  },
  {
   "cell_type": "code",
   "execution_count": null,
   "metadata": {
    "collapsed": true
   },
   "outputs": [],
   "source": [
    "def draw_histograms(bening, malignant, variables, nrows, ncols):\n",
    "    fig,axes=plt.subplots(nrows,ncols,sharex=True, figsize=(20,20))\n",
    "    c=['#d8b365','#5ab4ac']\n",
    "\n",
    "    for i in range(0,5):\n",
    "        axes[4,i].set_xlabel(variables[i])\n",
    "        axes[i,0].set_ylabel(variables[i])\n",
    "        y = malignant[variables[i]]\n",
    "\n",
    "        for j in range(0,5):\n",
    "            x = benign[variables[j]]\n",
    "            \n",
    "            if j==i:\n",
    "            \n",
    "                axes[i,j].hist(x, bins=20, alpha=0.65, label='Benign',color=c[0])\n",
    "                axes[i,j.\n",
    "                axes[i,j].hist(y, bins=20, alpha=0.65, label='Malign',color=c[1])\n",
    "            \n",
    "            else:\n",
    "                rng = np.random.RandomState(0)\n",
    "                axes[i,j].scatter(data[variables[i]],data[variables[j]], alpha=0.3, color=c)            \n",
    "        \n",
    "        \n",
    "    #plt.setp([a.get_xticklabels() for a in axes[0, :]], visible=False)\n",
    "    #plt.setp([a.get_yticklabels() for a in axes[:, 1]], visible=False)\n",
    "    \n",
    "    fig.text(0.5,0.04,'Variables', ha='center', va='center', fontsize=30)\n",
    "    fig.text(0.05,0.5,'Frequency', ha='center', va='center', \\\n",
    "                 rotation='vertical',fontsize=30)\n",
    "    cami = [Line2D([0], [0], marker='o', color=c[0], label='Scatter',markerfacecolor=c[0], markersize=15),\\\n",
    "          Line2D([0], [0], marker='o', color=c[1], label='Scatter',markerfacecolor=c[1], markersize=15)]\n",
    "    \n",
    "    \n",
    "    fig.legend(handles=cami,labels=('Bening','Malignant'),loc='upper right',prop={'size': 16})\n",
    "    plt.show()\n",
    "\n",
    "    return\n"
   ]
  }
 ],
 "metadata": {
  "kernelspec": {
   "display_name": "Python 3",
   "language": "python",
   "name": "python3"
  },
  "language_info": {
   "codemirror_mode": {
    "name": "ipython",
    "version": 3
   },
   "file_extension": ".py",
   "mimetype": "text/x-python",
   "name": "python",
   "nbconvert_exporter": "python",
   "pygments_lexer": "ipython3",
   "version": "3.6.1"
  }
 },
 "nbformat": 4,
 "nbformat_minor": 2
}

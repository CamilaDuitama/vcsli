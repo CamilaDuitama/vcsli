{
 "cells": [
  {
   "cell_type": "markdown",
   "metadata": {},
   "source": [
    "% Latex code\n",
    "\n",
    "\\center \\Large{Visual Computing}\n",
    "\n",
    "Prof. Dr.-Ing. Thomas Schultz\n",
    "\n",
    "\\center \\Large{Assignment 1}\n",
    "\\normalsize\n",
    "\n",
    "Students\n",
    "\n",
    "Mauricio Lacerda\n",
    "\n",
    "Camila Duitama\n",
    "\n",
    "\\raggedright\n",
    "\n",
    "Exercise 1) a)"
   ]
  },
  {
   "cell_type": "code",
   "execution_count": 152,
   "metadata": {},
   "outputs": [
    {
     "name": "stdout",
     "output_type": "stream",
     "text": [
      "Number of columns: 11\n",
      "Number of instances: 699\n",
      "Column names: ['code' 'thickness' 'uniCelS' 'uniCelShape' 'marAdh' 'epiCelSize' 'bareNuc'\n",
      " 'blaChroma' 'normNuc' 'mitoses' 'class']\n"
     ]
    }
   ],
   "source": [
    "import pandas as pd\n",
    "data = pd.read_excel('breast-cancer-wisconsin.xlsx', 0, \\\n",
    "                     index_row=0, na_values=[''])\n",
    "print(\"Number of columns:\",len(data.columns))\n",
    "print(\"Number of instances:\",len(data.index))\n",
    "print(\"Column names:\", data.columns.get_values())"
   ]
  },
  {
   "cell_type": "markdown",
   "metadata": {},
   "source": [
    "Exercise 1) b)"
   ]
  },
  {
   "cell_type": "code",
   "execution_count": 153,
   "metadata": {
    "collapsed": true
   },
   "outputs": [],
   "source": [
    "data = data.interpolate(method='linear')"
   ]
  },
  {
   "cell_type": "markdown",
   "metadata": {},
   "source": [
    "We used the linear method for the interpolation because, since the data seems to be linearly distributed, it is less likely that the results could be affected by this interpolation.\n",
    "\n",
    "Exercise 1) c)"
   ]
  },
  {
   "cell_type": "code",
   "execution_count": 154,
   "metadata": {},
   "outputs": [
    {
     "name": "stdout",
     "output_type": "stream",
     "text": [
      "Number of benign records: 458\n",
      "Number of malignant records: 241\n"
     ]
    }
   ],
   "source": [
    "benig = data[data['class']==2]\n",
    "malig = data[data['class']==4]\n",
    "print(\"Number of benign records:\",len(benig.index))\n",
    "print(\"Number of malignant records:\",len(malig.index))"
   ]
  },
  {
   "cell_type": "markdown",
   "metadata": {},
   "source": [
    "Exercise 1) d)"
   ]
  },
  {
   "cell_type": "code",
   "execution_count": 155,
   "metadata": {},
   "outputs": [
    {
     "name": "stdout",
     "output_type": "stream",
     "text": [
      "code 0.00946920773691\n",
      "thickness 1.13172472256\n",
      "uniCelS 1.83630641175\n",
      "uniCelShape 1.89863511519\n",
      "marAdh 0.848820438714\n",
      "epiCelSize 0.808413912364\n",
      "bareNuc 1.80596723137\n",
      "blaChroma 1.30138955286\n",
      "normNuc 0.92825503621\n",
      "mitoses 0.187838518258\n",
      "class inf\n"
     ]
    }
   ],
   "source": [
    "import math\n",
    "def f_score(x1, x2, x):\n",
    "    mu_x1 = x1.mean()\n",
    "    mu_x2 = x2.mean()\n",
    "    mu_x = x.mean()\n",
    "    # numerator\n",
    "    num = ((mu_x1-mu_x)**2) + ((mu_x2-mu_x)**2)\n",
    "    # denominator\n",
    "    den=0\n",
    "    acc1=0\n",
    "    for i in x1:\n",
    "        acc1+=(i-mu_x1)**2\n",
    "    den+=acc1/(len(x1.index)-1)\n",
    "    acc2=0\n",
    "    for i in x2:\n",
    "        acc2+=(i-mu_x2)**2\n",
    "    den+=acc2/(len(x2.index)-1)\n",
    "    if den==0:\n",
    "        return math.inf\n",
    "    return num/den\n",
    "for i in data.columns:\n",
    "    print(i, f_score(benig[i], malig[i], data[i]))"
   ]
  },
  {
   "cell_type": "markdown",
   "metadata": {},
   "source": [
    "The best classes to describe the data are: Clump Thickness, Uniformity of Cell Size, Uniformity of Cell Shape, Bare Nuclei and Bland Chromatin (larger values). In the case of the class, since it describes each of the subgroups, the f-score tends to infinity."
   ]
  },
  {
   "cell_type": "markdown",
   "metadata": {},
   "source": [
    "Exercise 1) e) Since it wasn't mentioned to add the code, we left this column out."
   ]
  },
  {
   "cell_type": "code",
   "execution_count": 156,
   "metadata": {
    "collapsed": true
   },
   "outputs": [],
   "source": [
    "try:\n",
    "    data.loc[:,['thickness','uniCelS','uniCelShape', 'bareNuc', \\\n",
    "                'blaChroma']].to_excel('reduced_dataset.xlsx', sheet_name='Sheet1')\n",
    "except:\n",
    "    print(\"Couldn't write to file\")"
   ]
  },
  {
   "cell_type": "markdown",
   "metadata": {
    "collapsed": true
   },
   "source": [
    "<b>Exercise 2)</b>\n",
    "\n",
    "<b>a) What is the Helmholtz-Kohlrausch effect? (2P)</b>\n",
    "\n",
    "Phenomenon where one of two objects with the same luminance is percieved to be brighter. This effect increases with the saturation of the colour (the more saturated it is the brighter it is percieved)\n",
    "\n",
    "<b>b) Why are the authors proposing to use images of faces? (2P)</b>\n",
    "\n",
    "Because humans have a region in our brains to recognise faces(mostly when the light comes from above), and luminance plays a major role in such process. Therefore, subjects in the study would be more likely to correctly select the \"positive\"(the image that stands out more) or \"negative\" image, when faced with the picture of two faces with a gray and a coloured region of different luminace levels.\n",
    "\n",
    "<b>c) To what alternative method do the authors compare their newly proposed one in the user study?(2P)</b>\n",
    "\n",
    "To the minimally distinct boundary method (MDB), where two adjacent fields are compared several times by varying the brightness. The procedure is done until the observer decides that the border between the fields is barely recognisable\n",
    "\n",
    "<b>d) Based on the result of the user study, what is the advantage of the newly proposed method? (2P)</b>\n",
    "\n",
    "The newly proposed method is easily reproducible(because it relies on our natural ability to recognise faces), simple, more precise and equally fast.\n",
    "\n",
    "<b>e) Why do the authors have to know the monitor gamma while creating a colormap based on the result of the user study? (2P)</b>\n",
    "\n",
    "With the monitor gamma parameter, one could convert two colours of equal luminance from RGB coordinates to intensity levels"
   ]
  },
  {
   "cell_type": "code",
   "execution_count": null,
   "metadata": {
    "collapsed": true
   },
   "outputs": [],
   "source": []
  }
 ],
 "metadata": {
  "kernelspec": {
   "display_name": "Python 3",
   "language": "python",
   "name": "python3"
  },
  "language_info": {
   "codemirror_mode": {
    "name": "ipython",
    "version": 3
   },
   "file_extension": ".py",
   "mimetype": "text/x-python",
   "name": "python",
   "nbconvert_exporter": "python",
   "pygments_lexer": "ipython3",
   "version": "3.6.1"
  }
 },
 "nbformat": 4,
 "nbformat_minor": 2
}
